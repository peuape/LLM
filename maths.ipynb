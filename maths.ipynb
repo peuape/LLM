{
 "cells": [
  {
   "cell_type": "code",
   "execution_count": 6,
   "id": "b5bfded4-b16b-46c4-a464-4d8fc920abcc",
   "metadata": {},
   "outputs": [
    {
     "name": "stdin",
     "output_type": "stream",
     "text": [
      " ········\n"
     ]
    }
   ],
   "source": [
    "import getpass\n",
    "import os\n",
    "\n",
    "os.environ[\"OPENAI_API_KEY\"] = getpass.getpass()\n"
   ]
  },
  {
   "cell_type": "code",
   "execution_count": 47,
   "id": "cd6c4d22-dbbc-44c7-9b15-1c436e996be1",
   "metadata": {},
   "outputs": [],
   "source": [
    "from langchain_core.messages import HumanMessage, SystemMessage\n",
    "from langchain_core.prompts import ChatPromptTemplate\n",
    "from langchain_openai import ChatOpenAI\n",
    "from IPython.display import display, Latex\n",
    "model = ChatOpenAI(temperature=0, model=\"gpt-3.5-turbo\")"
   ]
  },
  {
   "cell_type": "markdown",
   "id": "72aab060-7bd5-49e4-803f-753117ae9732",
   "metadata": {},
   "source": [
    "東京大学2023年入試問題\\\n",
    "黒玉3個、赤玉4個、白玉5個が入っている袋から玉を1個ずつ取り出し、取り出した玉を順に横一列に12個すべて並べる。ただし、袋から個々の玉が取り出される確率は等しいものとする。\\\n",
    "どの赤玉も隣り合わない確率pを求めよ\\\n",
    "\n",
    "解答:全ての球を区別すると並べ方は１２！通り。赤玉が隣りあわない並べ方は、まず赤玉以外の並べ方が８！通り、これらの球の間もしくは両端の９ヶ所のどこにどの赤玉を入れるかを考えると9・8・7・6・5通り。\\\n",
    "よって、p=(8!9・8・7・6・5)/12!=14/55\n",
    "\n",
    "まずはgpt-3.5-turboに普通に解かせてみる。"
   ]
  },
  {
   "cell_type": "code",
   "execution_count": 48,
   "id": "7502770d-322c-40e4-90b9-6c0028236c89",
   "metadata": {},
   "outputs": [],
   "source": [
    "def solver_func(system_message,question):  \n",
    "    message = [SystemMessage(system_message),\n",
    "              HumanMessage(question)]\n",
    "    return display(Latex(model.invoke(message).content))"
   ]
  },
  {
   "cell_type": "code",
   "execution_count": 49,
   "id": "dd7365ed-7039-48f4-8fc8-0ae4fef3e22e",
   "metadata": {},
   "outputs": [
    {
     "data": {
      "text/latex": [
       "まず、全ての玉の並べ方の総数を求めます。黒玉3個、赤玉4個、白玉5個の計12個の玉を並べる方法は、12!通りです。\n",
       "\n",
       "次に、どの赤玉も隣り合わない並べ方の総数を求めます。赤玉が隣り合わないように並べるためには、まず黒玉と白玉の間に赤玉を挿入する必要があります。黒玉と白玉の間に挿入できる場所は、最初に黒玉の左端、黒玉と黒玉の間、黒玉と白玉の間、白玉の右端の4箇所です。\n",
       "\n",
       "この4箇所に4つの赤玉を挿入する方法は、4つの赤玉を4箇所に並べる組み合わせの数として考えることができます。したがって、赤玉を挿入する方法は、4つの赤玉と4箇所の間に並べる組み合わせの数、すなわち4!/(4-4)! = 4! = 24通りです。\n",
       "\n",
       "最後に、黒玉、赤玉、白玉それぞれの中での順番に並べる方法を考慮して、全体の並べ方の総数からどの赤玉も隣り合わない並べ方の総数を引きます。\n",
       "\n",
       "したがって、求める確率pは、\n",
       "p = (4! * 9!)/12! = 24 * 362880 / 479001600 = 0.01875\n",
       "\n",
       "よって、どの赤玉も隣り合わない確率は0.01875、つまり約1.875%です。"
      ],
      "text/plain": [
       "<IPython.core.display.Latex object>"
      ]
     },
     "metadata": {},
     "output_type": "display_data"
    }
   ],
   "source": [
    "system_message = \"与えられた問題を解け。導出過程も説明すること。\"\n",
    "question = \"　黒玉3個、赤玉4個、白玉5個が入っている袋から玉を1個ずつ取り出し、取り出した玉を順に横一列に12個すべて並べる。ただし、袋から個々の玉が取り出される確率は等しいものとする。\\\n",
    "どの赤玉も隣り合わない確率pを求めよ。\"\n",
    "solver_func(system_message, question)"
   ]
  },
  {
   "cell_type": "markdown",
   "id": "8869c12d-9c61-4153-9832-4aef6900596c",
   "metadata": {},
   "source": [
    "誤り。一文一文よく考えさせてみる。"
   ]
  },
  {
   "cell_type": "code",
   "execution_count": 50,
   "id": "3c35da31-d484-422c-b4cb-ccfff6b51b27",
   "metadata": {},
   "outputs": [
    {
     "data": {
      "text/latex": [
       "まず、全ての玉の並べ方の総数を求めます。袋から取り出す玉の順番によって、異なる並べ方が生じるので、順列の公式を用いて計算します。\n",
       "\n",
       "全ての玉の数は$3+4+5=12$個なので、12個の玉を並べる順列の総数は$12!$通りです。\n",
       "\n",
       "次に、どの赤玉も隣り合わない並べ方の総数を求めます。まず、赤玉を含まない玉（黒玉と白玉）を並べる方法を考えます。黒玉3個と白玉5個を並べる順列の総数は$8!$通りです。\n",
       "\n",
       "この並べ方の中で、赤玉を挿入する位置を考えます。まず、8個の玉の間に赤玉を1つずつ挿入する方法は、9箇所（玉の間と両端）に赤玉を挿入する方法があります。この挿入箇所の選び方は、組み合わせの公式を用いて計算します。\n",
       "\n",
       "$C(9, 4) = \\frac{9!}{4!5!} = 126$通りです。\n",
       "\n",
       "したがって、どの赤玉も隣り合わない並べ方の総数は$8! \\times 126$通りです。\n",
       "\n",
       "最後に、確率$p$を求めます。確率$p$は、どの赤玉も隣り合わない並べ方の総数を全ての並べ方の総数で割ったものです。\n",
       "\n",
       "\\[ p = \\frac{8! \\times 126}{12!} = \\frac{8 \\times 7 \\times 6 \\times 5 \\times 4 \\times 3 \\times 2 \\times 126}{12 \\times 11 \\times 10 \\times 9 \\times 8 \\times 7 \\times 6 \\times 5 \\times 4 \\times 3 \\times 2 \\times 1} \\]\n",
       "\n",
       "\\[ p = \\frac{8 \\times 7 \\times 6 \\times 5 \\times 4 \\times 3 \\times 2 \\times 126}{12 \\times 11 \\times 10 \\times 9 \\times 8 \\times 7 \\times 6 \\times 5 \\times 4 \\times 3 \\times 2 \\times 1} \\]\n",
       "\n",
       "\\[ p = \\frac{8 \\times 7 \\times 6 \\times 5 \\times 4 \\times 3 \\times 2 \\times 126}{12 \\times 11 \\times 10 \\times 9 \\times 8 \\times 7 \\times 6 \\times 5 \\times 4 \\times 3 \\times 2 \\times 1} \\]\n",
       "\n",
       "\\[ p = \\frac{8 \\times 7 \\times 6 \\times 5 \\times 4 \\times 3 \\times 2 \\times 126}{12 \\times 11 \\times 10 \\times 9 \\times 8 \\times 7 \\times 6 \\times 5 \\times 4 \\times 3 \\times 2 \\times 1} \\]\n",
       "\n",
       "\\[ p = \\frac{8 \\times 7 \\times 6 \\times 5 \\times 4 \\times 3 \\times 2 \\times 126}{12 \\times 11 \\times 10 \\times 9 \\times 8 \\times 7 \\times 6 \\times 5 \\times 4 \\times 3 \\times 2 \\times 1} \\]\n",
       "\n",
       "\\[ p = \\frac{8 \\times 7 \\times 6 \\times 5 \\times 4 \\times 3 \\times 2 \\times 126}{12 \\times 11 \\times 10 \\times 9 \\times 8 \\times 7 \\times 6 \\times 5 \\times 4 \\times 3 \\times 2 \\times 1} \\]\n",
       "\n",
       "\\[ p = \\frac{8 \\times 7 \\times 6 \\times 5 \\times 4 \\times 3 \\times 2 \\times 126}{12 \\times 11 \\times 10 \\times 9 \\times 8 \\times 7 \\times 6 \\times 5 \\times 4 \\times 3 \\times 2 \\times 1} \\]\n",
       "\n",
       "\\[ p = \\frac{8 \\times 7 \\times 6 \\times 5 \\times 4 \\times 3 \\times 2 \\times 126}{12 \\times 11 \\times 10 \\times 9 \\times 8 \\times 7 \\times 6 \\times 5 \\times 4 \\times 3 \\times 2 \\times 1} \\]\n",
       "\n",
       "\\[ p = \\frac{8 \\times 7 \\times 6 \\times 5 \\times 4 \\times 3 \\times 2 \\times 126}{12 \\times 11 \\times 10 \\times 9 \\times 8 \\times 7 \\times 6 \\times 5 \\times 4 \\times 3 \\times 2 \\times 1} \\]\n",
       "\n",
       "\\[ p = \\frac{8 \\times 7 \\times 6 \\times 5 \\times 4 \\times 3 \\times 2 \\times 126}{12 \\times 11 \\times 10 \\times 9 \\times 8 \\times 7 \\times 6 \\times 5 \\times 4 \\times 3 \\times 2 \\times 1} \\]\n",
       "\n",
       "\\[ p = \\frac{8 \\times 7 \\times 6 \\times 5 \\times 4 \\times 3 \\times 2 \\times 126}{12 \\times 11 \\times 10 \\times 9 \\times 8 \\times 7 \\times 6 \\times 5 \\times 4 \\times 3 \\times 2 \\times 1} \\]\n",
       "\n",
       "\\[ p = \\frac{8 \\times 7 \\times 6 \\times 5 \\times 4 \\times 3 \\times 2 \\times 126}{12 \\times 11 \\times 10 \\times 9 \\times 8 \\times 7 \\times 6 \\times 5 \\times 4 \\times 3 \\times 2 \\times 1} \\]\n",
       "\n",
       "\\[ p = \\frac{8 \\times 7 \\times 6 \\times 5 \\times 4 \\times 3 \\times 2 \\times 126}{12 \\times 11 \\times 10 \\times 9 \\times 8 \\times 7 \\times 6 \\times 5 \\times 4 \\times 3 \\times 2 \\times 1} \\]\n",
       "\n",
       "\\[ p = \\frac{8 \\times 7 \\times 6 \\times 5 \\times 4 \\times 3 \\times 2 \\times 126}{12 \\times 11 \\times 10 \\times 9 \\times 8 \\times 7 \\times 6 \\times 5 \\times 4 \\times 3 \\times 2 \\times 1} \\]\n",
       "\n",
       "\\[ p = \\frac{8 \\times 7 \\times 6 \\times 5 \\times 4 \\times 3 \\times 2 \\times 126}{12 \\times 11 \\times 10 \\times 9 \\times 8 \\times 7 \\times 6 \\times 5 \\times 4 \\times 3 \\times 2 \\times 1} \\]\n",
       "\n",
       "\\[ p = \\frac{8 \\times 7 \\times 6 \\times 5 \\times 4 \\times 3 \\times 2 \\times 126}{12 \\times 11 \\times 10 \\times 9 \\times 8 \\times 7 \\times 6 \\times 5 \\times 4 \\times 3 \\times 2 \\times 1} \\]\n",
       "\n",
       "\\[ p = \\frac{8 \\times 7 \\times 6 \\times 5 \\times 4 \\times 3 \\times 2 \\times 126}{12 \\times 11 \\times 10 \\times 9 \\times 8 \\times 7 \\times 6 \\times 5 \\times 4 \\times 3 \\times 2 \\times 1} \\]\n",
       "\n",
       "\\[ p = \\frac{8 \\times 7 \\times 6 \\times 5 \\times 4 \\times 3 \\times 2 \\times 126}{12 \\times 11 \\times 10 \\times 9 \\times 8 \\times 7 \\times 6 \\times 5 \\times 4 \\times 3 \\times 2 \\times 1} \\]\n",
       "\n",
       "\\[ p = \\frac{8 \\times 7 \\times 6 \\times 5 \\times 4 \\times 3 \\times 2 \\times 126}{12 \\times 11 \\times 10 \\times 9 \\times 8 \\times 7 \\times 6 \\times 5 \\times 4 \\times 3 \\times 2 \\times 1} \\]\n",
       "\n",
       "\\[ p = \\frac{8 \\times 7 \\times 6 \\times 5 \\times 4 \\times 3 \\times 2 \\times 126}{12 \\times 11 \\times 10 \\times 9 \\times 8 \\times 7 \\times 6 \\times 5 \\times 4 \\times 3 \\times 2 \\times 1} \\]\n",
       "\n",
       "\\[ p = \\frac{8 \\times 7 \\times 6 \\times 5 \\times 4 \\times 3 \\times 2 \\times 126}{12 \\times 11 \\times 10 \\times 9 \\times 8 \\times 7 \\times 6 \\times 5 \\times 4 \\times 3 \\times 2 \\times 1} \\]\n",
       "\n",
       "\\[ p = \\frac{8 \\times 7 \\times 6 \\times 5 \\times 4 \\times 3 \\times 2 \\times 126}{12 \\times 11 \\times 10 \\times 9 \\times 8 \\times 7 \\times 6 \\times 5 \\times 4 \\times 3 \\times 2 \\times 1} \\]\n",
       "\n",
       "\\[ p = \\frac{8 \\times 7 \\times 6 \\times 5 \\times 4 \\times 3 \\times 2 \\times 126}{12 \\times 11 \\times 10 \\times 9 \\times 8 \\times 7 \\times 6 \\times 5 \\times 4 \\times 3 \\times 2 \\times 1} \\]\n",
       "\n",
       "\\[ p = \\frac{8 \\times 7 \\times 6 \\times 5 \\times 4 \\times 3 \\times 2 \\times 126}{12 \\times 11 \\times 10 \\times 9 \\times 8 \\times 7 \\times 6 \\times 5 \\times 4 \\times 3 \\times 2 \\times 1} \\]\n",
       "\n",
       "\\[ p = \\frac{8 \\times 7 \\times 6 \\times 5 \\times 4 \\times 3 \\times 2 \\times 126}{12 \\times 11 \\times 10 \\times 9 \\times 8 \\times 7 \\times 6 \\times 5 \\times 4 \\times 3 \\times 2 \\times 1} \\]\n",
       "\n",
       "\\[ p = \\frac{8 \\times 7 \\times 6 \\times 5 \\times 4 \\times 3 \\times 2 \\times 126}{12 \\times 11 \\times 10 \\times 9 \\times 8 \\times 7 \\times 6 \\times 5 \\times 4 \\times 3 \\times 2 \\times 1} \\]\n",
       "\n",
       "\\[ p = \\frac{8 \\times 7 \\times 6 \\times 5 \\times 4 \\times 3 \\times 2 \\times 126}{12 \\times 11 \\times 10 \\times 9 \\times 8 \\times 7 \\times 6 \\times 5 \\times 4 \\times 3 \\times 2 \\times 1} \\]\n",
       "\n",
       "\\[ p = \\frac{8 \\times 7 \\times 6 \\times 5 \\times 4 \\times 3 \\times 2 \\times 126}{12 \\times 11 \\times 10 \\times 9 \\times 8 \\times 7 \\times 6 \\times 5 \\times 4 \\times 3 \\times 2 \\times 1} \\]\n",
       "\n",
       "\\[ p = \\frac{8 \\times 7 \\times 6 \\times 5 \\times 4 \\times 3 \\times 2 \\times 126}{12 \\times 11 \\times 10 \\times 9 \\times 8 \\times 7 \\times 6 \\times 5 \\times 4 \\times 3 \\times 2 \\times 1} \\]\n",
       "\n",
       "\\[ p = \\frac{8 \\times 7 \\times 6 \\times 5 \\times 4 \\times 3 \\times 2 \\times 126}{12 \\times 11 \\times 10 \\times 9 \\times 8 \\times 7 \\times 6 \\times 5 \\times 4 \\times 3 \\times 2 \\times 1} \\]\n",
       "\n",
       "\\[ p = \\frac{8 \\times 7 \\times 6 \\times 5 \\times 4 \\times 3 \\times 2 \\times 126}{12 \\times 11 \\times 10 \\times 9 \\times 8 \\times 7 \\times 6 \\times 5 \\times 4 \\times 3 \\times 2 \\times 1} \\]\n",
       "\n",
       "\\[ p = \\frac{8 \\times 7 \\times 6 \\times 5 \\times 4 \\times 3 \\times 2 \\times 126}{12 \\times 11 \\times 10 \\times 9 \\times 8 \\times 7 \\times 6 \\times 5 \\times 4 \\times 3 \\times 2 \\times 1} \\]\n",
       "\n",
       "\\[ p = \\frac{8 \\times 7 \\times 6 \\times 5 \\times 4 \\times 3 \\times 2 \\times 126}{12 \\times 11 \\times 10 \\times 9 \\times 8 \\times 7 \\times 6 \\times 5 \\times 4 \\times 3 \\times 2 \\times 1} \\]\n",
       "\n",
       "\\[ p = \\frac{8 \\times 7 \\times 6 \\times 5 \\times 4 \\times 3 \\times 2 \\times 126}{12 \\times 11 \\times 10 \\times 9 \\times 8 \\times 7 \\times 6 \\times 5 \\times 4 \\times 3 \\times 2 \\times 1} \\]\n",
       "\n",
       "\\[ p = \\frac{8 \\times 7 \\times 6 \\times 5 \\times 4 \\times 3 \\times 2 \\times 126}{12 \\times 11 \\times 10 \\times 9 \\times 8 \\times 7 \\times 6 \\times 5 \\times 4 \\times 3 \\times 2 \\times 1} \\]\n",
       "\n",
       "\\[ p = \\frac{8 \\times 7 \\times 6 \\times 5 \\times 4 \\times 3 \\times 2 \\times 126}{12 \\times 11 \\times 10 \\times 9 \\times 8 \\times 7 \\times 6 \\times 5 \\times 4 \\times 3 \\times 2 \\times 1} \\]\n",
       "\n",
       "\\[ p = \\frac{8 \\times 7 \\times 6 \\times 5 \\times 4 \\times 3 \\times 2 \\times 126}{12 \\times 11 \\times 10 \\times 9 \\times 8 \\times 7 \\times 6 \\times 5 \\times 4 \\times 3 \\times 2 \\times 1} \\]\n",
       "\n",
       "\\[ p = \\frac{8 \\times 7 \\times 6 \\times 5 \\times 4 \\times 3 \\times 2 \\times 126}{12 \\times 11 \\times 10 \\times 9 \\times 8 \\times 7 \\times 6 \\times 5 \\times 4 \\times 3 \\times 2 \\times 1} \\]\n",
       "\n",
       "\\[ p = \\frac{8 \\times 7 \\times 6 \\times 5 \\times 4 \\times 3 \\times 2 \\times 126}{12 \\times 11 \\times 10 \\times 9 \\times 8 \\times 7 \\times 6 \\times 5 \\times 4 \\times 3 \\times 2 \\times 1} \\]\n",
       "\n",
       "\\[ p = \\frac{8 \\times 7 \\times 6 \\times 5 \\times 4 \\times 3 \\times 2 \\times 126}{12 \\times 11 \\times 10 \\times 9 \\times 8 \\times 7 \\times 6 \\times 5 \\times 4 \\times 3 \\times 2 \\times 1} \\]\n",
       "\n",
       "\\[ p = \\frac{8 \\times 7 \\times 6 \\times 5 \\times 4 \\times 3 \\times 2 \\times 126}{12 \\times 11 \\times 10 \\times 9 \\times 8 \\times 7 \\times 6 \\times 5 \\times 4 \\times 3 \\times 2 \\times 1} \\]\n",
       "\n",
       "\\[ p = \\frac{8 \\times 7 \\times 6 \\times 5 \\times 4 \\times 3 \\times 2 \\times 126}{12 \\times 11 \\times 10 \\times 9 \\times 8 \\times 7 \\times 6 \\times 5 \\times 4 \\times 3 \\times 2 \\times 1} \\]\n",
       "\n",
       "\\[ p = \\frac{8 \\times 7 \\times 6 \\times 5 \\times 4 \\times 3 \\times 2 \\times 126}{12 \\times 11 \\times 10 \\times 9 \\times 8 \\times 7 \\times 6 \\times 5 \\times 4"
      ],
      "text/plain": [
       "<IPython.core.display.Latex object>"
      ]
     },
     "metadata": {},
     "output_type": "display_data"
    }
   ],
   "source": [
    "system_message = \"与えられた問題を解け。一文一文よく考えて解くこと。導出過程も説明すること。\"\n",
    "solver_func(system_message, question)"
   ]
  },
  {
   "cell_type": "markdown",
   "id": "513c9f17-92d7-40f1-b24a-0d6eac9e636f",
   "metadata": {},
   "source": [
    "誤り。誤りである原因は、前の文で自分が述べた内容を忘れること(初めは球の順番を考慮しているのに、後の方になると忘れている)。\\\n",
    "球同士を区別するしないの一貫性もない。そこでプロンプトを以下のように変更。\n",
    "\n"
   ]
  },
  {
   "cell_type": "code",
   "execution_count": 53,
   "id": "53d1c47d-4d24-40eb-9237-ddfc5e9a8d47",
   "metadata": {},
   "outputs": [
    {
     "data": {
      "text/latex": [
       "まず、全ての玉の並べ方の総数を求めます。黒玉3個、赤玉4個、白玉5個の計12個の玉を並べる方法は、12!通りです。\n",
       "\n",
       "次に、どの赤玉も隣り合わない並べ方の総数を求めます。まず、赤玉を並べるスロットを用意します。黒玉や白玉の間に赤玉を入れるスロットは、黒玉と白玉の間、および両端にあります。これらのスロットに赤玉を入れる方法は、(10P4)通りあります。\n",
       "\n",
       "最後に、赤玉以外の黒玉と白玉を並べる方法は、残りの8個の玉を並べる方法である8!通りです。\n",
       "\n",
       "したがって、どの赤玉も隣り合わない確率pは、\n",
       "\\[ p = \\frac{(10P4) \\times 8!}{12!} = \\frac{10 \\times 9 \\times 8 \\times 7 \\times 8!}{12 \\times 11 \\times 10 \\times 9 \\times 8!} = \\frac{10 \\times 9 \\times 7}{12 \\times 11} = \\frac{630}{1320} = \\frac{63}{132} = \\frac{9}{22} \\] \n",
       "よって、どの赤玉も隣り合わない確率は9/22である。"
      ],
      "text/plain": [
       "<IPython.core.display.Latex object>"
      ]
     },
     "metadata": {},
     "output_type": "display_data"
    }
   ],
   "source": [
    "system_message = \"与えられた問題を解け。一文書き終えて新しい文を書き始めるたびに、それまで自分が書いた文と問題文を思い出し、\\\n",
    "論理的一貫性を失わぬようにすること。導出過程も説明すること。\"\n",
    "solver_func(system_message, question)"
   ]
  },
  {
   "cell_type": "markdown",
   "id": "b2931fb0-5358-4a6a-80ef-24242cee8044",
   "metadata": {},
   "source": [
    "誤り。計算も間違えている。一回しか解かないでそれを結論とするのが問題なのかもしれない。違う方法でとかせ見直しさせてみる。"
   ]
  },
  {
   "cell_type": "code",
   "execution_count": 54,
   "id": "cb3befdf-3576-436a-979f-5f93022d9f72",
   "metadata": {},
   "outputs": [
    {
     "data": {
      "text/latex": [
       "手順１：まず、赤玉が隣り合わない場合の並べ方を考える。赤玉が隣り合わないためには、赤玉を黒玉や白玉と交互に配置する必要がある。したがって、黒玉と白玉を並べる方法を考える。黒玉3個と白玉5個を並べる場合、まず黒玉を並べる方法は$3!$通り、その後に白玉を並べる方法は$5!$通りある。よって、赤玉が隣り合わない確率$p$は、$\\frac{3! \\times 5!}{12!}$である。\n",
       "\n",
       "手順２：赤玉が隣り合わない確率$p$を求めるために、まず全ての並べ方の数を求める。12個の玉を並べる方法は$12!$通りある。次に、赤玉が隣り合わない場合を考える。赤玉を含まない9個の玉を並べる方法は$9!$通りである。しかし、この9個の玉の間に赤玉を挿入する方法は10箇所ある（最初、最後、および各玉の間）。したがって、赤玉が隣り合わない確率$p$は、$\\frac{10 \\times 4! \\times 3! \\times 5!}{12!}$である。\n",
       "\n",
       "手順３：手順１と手順２の解答を比較すると、手順１の解答は$\\frac{3! \\times 5!}{12!}$であり、手順２の解答は$\\frac{10 \\times 4! \\times 3! \\times 5!}{12!}$である。手順１の解答は手順２の解答よりも簡潔であり、また手順１の解答は赤玉が隣り合わない確率を黒玉と白玉の並べ方から直接求めているため、より論理的一貫性があると言える。よって、手順１の解答が正しい。手順１: $\\frac{3! \\times 5!}{12!}$手順２: $\\frac{10 \\times 4! \\times 3! \\times 5!}{12!}$手順３: 手順１の解答が正しい。"
      ],
      "text/plain": [
       "<IPython.core.display.Latex object>"
      ]
     },
     "metadata": {},
     "output_type": "display_data"
    }
   ],
   "source": [
    "system_message = \"次の順番で与えられた問題を解け。\\\n",
    "手順１：与えられた問題を解け。一文書き終えて新しい文を書き始めるたびに、それまで自分が書いた文と問題文を思い出し、\\\n",
    "論理的一貫性を失わぬようにすること。導出過程も説明すること。\\\n",
    "手順２：手順１とは異なる方法で与えられた問題を解け。一文書き終えて新しい文を書き始めるたびに、それまで自分が書いた文と問題文を思い出し、\\\n",
    "論理的一貫性を失わぬようにすること。導出過程も説明すること。\\\n",
    "手順３：手順１と手順２の解答を比較する。手順１と手順２の解答が同じならそれを解答として良い。手順１と手順２の解答が違うならば、いずれの解答がより論理的一貫性があるかを判定し、判定理由も与えよ。\\\n",
    "より論理的一貫性のある方を解答とせよ。\\\n",
    "以下のフォーマットに従って解答すること：\\\n",
    "手順１:{ここに手順１}\\\n",
    "手順２:{ここに手順２}\\\n",
    "手順３:{ここに手順３}\"\n",
    "solver_func(system_message, question)"
   ]
  },
  {
   "cell_type": "markdown",
   "id": "0e569c8c-075b-4369-8e39-28f646acfeee",
   "metadata": {},
   "source": [
    "誤り。見たところ、各文で述べている内容は正しいのだが、それを最後の分数式に落とし込む段階で論理的でない判断をしているようだ。英語の方がLLMの精度が高いはずだから、英語でプロンプトを入れてみる。"
   ]
  },
  {
   "cell_type": "code",
   "execution_count": 58,
   "id": "5240a4e0-be22-47ed-a650-232b8eef8027",
   "metadata": {},
   "outputs": [
    {
     "data": {
      "text/latex": [
       "To find the probability that none of the red balls are adjacent to each other, we first need to find the total number of ways to arrange the 12 balls in a horizontal line. This can be calculated using the formula for permutations of a multiset, which is $\\frac{12!}{3!4!5!}$ since we have 3 black balls, 4 red balls, and 5 white balls.\n",
       "\n",
       "Next, we need to find the number of ways in which the red balls are adjacent to each other. Since the red balls must be together, we can treat them as a single entity. So, we have 10 entities to arrange: {RRR}, 3 black balls, and 5 white balls. This can be done in $\\frac{10!}{3!5!}$ ways.\n",
       "\n",
       "Therefore, the number of ways in which none of the red balls are adjacent to each other is the total number of ways to arrange the 12 balls minus the number of ways in which the red balls are adjacent to each other.\n",
       "\n",
       "Hence, the probability $p$ that none of the red balls are adjacent to each other is given by:\n",
       "$$p = \\frac{\\frac{12!}{3!4!5!} - \\frac{10!}{3!5!}}{\\frac{12!}{3!4!5!}}$$\n",
       "\n",
       "Simplifying this expression will give us the final answer for the probability $p$."
      ],
      "text/plain": [
       "<IPython.core.display.Latex object>"
      ]
     },
     "metadata": {},
     "output_type": "display_data"
    }
   ],
   "source": [
    "system_message = \"You are a renowned mathematician. Solve the given question step by step. Make sure you think through every sentence you write,\\\n",
    "and that every sentence you write is coherent with all the previous sentences and the setting of the problem.\"\n",
    "question = \"Remove one ball at a time from a bag containing three black balls, four red balls and five white balls, and arrange all 12 balls in a horizontal line in the order in which they were removed. \\\n",
    "Note that the probability of an individual ball being taken out of the bag shall be equal. Find the probability p that none of the red balls are adjacent to each other.\"\n",
    "solver_func(system_message, question)"
   ]
  },
  {
   "cell_type": "markdown",
   "id": "3a7ade3c-2f20-4597-ab2d-0e8439cd9416",
   "metadata": {},
   "source": [
    "惜しい。球同士の区別は保っている。四つの赤玉のうち二つだけ隣り合わせになる可能性を考慮していないため間違えたもの。"
   ]
  },
  {
   "cell_type": "code",
   "execution_count": 60,
   "id": "90142e38-6816-4164-89c7-dc76fbf5a9fe",
   "metadata": {},
   "outputs": [
    {
     "data": {
      "text/latex": [
       "Step 1: Let's first find the total number of ways to arrange the 12 balls. There are 12! ways to arrange 12 different balls. \n",
       "\n",
       "Next, let's find the number of ways to arrange the 12 balls such that none of the red balls are adjacent to each other. We can treat the three black balls as a group, the four red balls as another group, and the five white balls as a third group. Then, we have 10 groups in total. The number of ways to arrange these 10 groups is 10!. Within each group, the balls can be arranged in the group in different ways. The black balls can be arranged within their group in 3! ways, the red balls in 4! ways, and the white balls in 5! ways. \n",
       "\n",
       "Therefore, the number of ways to arrange the 12 balls such that none of the red balls are adjacent to each other is 10! * 3! * 4! * 5!.\n",
       "\n",
       "The probability p that none of the red balls are adjacent to each other is the number of favorable outcomes divided by the total number of outcomes. So, p = (10! * 3! * 4! * 5!) / 12!.\n",
       "\n",
       "Step 2: Let's approach this problem differently. We can first place the black balls in the 12 positions. There are 12 choose 3 ways to place the black balls. \n",
       "\n",
       "Next, we can place the red balls in the remaining positions. There are 9 remaining positions after placing the black balls. We can place the red balls in these positions in 9 choose 4 ways.\n",
       "\n",
       "Finally, we can place the white balls in the remaining positions. There is only one way to place the white balls once the black and red balls are placed.\n",
       "\n",
       "Therefore, the total number of favorable outcomes is (12 choose 3) * (9 choose 4) * 1.\n",
       "\n",
       "The probability p that none of the red balls are adjacent to each other is the number of favorable outcomes divided by the total number of outcomes. So, p = [(12 choose 3) * (9 choose 4)] / 12!.\n",
       "\n",
       "Step 3: The answers from Step 1 and Step 2 are the same.\n",
       "\n",
       "Final answer: (10! * 3! * 4! * 5!) / 12! = [(12 choose 3) * (9 choose 4)] / 12!"
      ],
      "text/plain": [
       "<IPython.core.display.Latex object>"
      ]
     },
     "metadata": {},
     "output_type": "display_data"
    }
   ],
   "source": [
    "system_message = \"Solve the given problems in the following order. \\\n",
    "Step 1: Solve the given problems. Each time you finish a sentence and start a new sentence, recall the sentences you have written up to that point \\\n",
    "and the problem sentence, and Ensure that you do not lose logical coherence. The derivation process should also be explained. \\\n",
    "Step 2: Solve the given problem in a different way from step 1. Each time you finish writing a sentence and start writing a new sentence, \\\n",
    "recall the sentence you have written and the problem sentence up to that point and Ensure that logical coherence is not lost.\\\n",
    "The derivation process should also be explained. \\\n",
    "Step 3: Compare the answers to steps 1 and 2. If the answers to steps 1 and 2 are the same, then use that as your answer.\\\n",
    "If the answers to steps 1 and 2 are different, determine which answer is more logically consistent and take the more logically consistent one as the answer, \\\n",
    "and give the reason for thinking so.\\\n",
    "Answer according to the following format:\\\n",
    "Step 1:{Step 1 here}\\\n",
    "Step 2:{Step 2 here}\\\n",
    "Step 3:{Step 3 here}\\\n",
    "final answer:{Answer in one number}\"\n",
    "solver_func(system_message, question)"
   ]
  },
  {
   "cell_type": "markdown",
   "id": "0c65835e-75b4-48df-a315-d408d83a16c1",
   "metadata": {},
   "source": [
    "間違い。そもそもstep3で明らかに違う回答を同じと言っているから、step3は本当に機能していないし、分数計算もできていないようだ。"
   ]
  },
  {
   "cell_type": "markdown",
   "id": "51f1133c-7d07-4f44-8e8c-13b35158be62",
   "metadata": {},
   "source": [
    "考察:\\\n",
    "gpt３.5turboは英語にしようが日本語にしようがこの手の数学の問題は苦手なようだ。複数の方法を解いて見直させようにも、どのようにしてどちらの解が優れているのか判定すれば\\\n",
    "いいかわからず、とりあえず今回はgptに自分で判定するよう丸投げしたが、それもこのモデルではできないようだ。そして、計算の精度も低い。"
   ]
  },
  {
   "cell_type": "markdown",
   "id": "81eab8b0-8cd6-4f56-afe2-f9f4f91f9ad1",
   "metadata": {},
   "source": [
    "追加:gpt-4o-mini-2024-07-18でやってみる。"
   ]
  },
  {
   "cell_type": "code",
   "execution_count": 62,
   "id": "d28bbca4-b57f-433e-819d-91d4c0e2162a",
   "metadata": {},
   "outputs": [
    {
     "data": {
      "text/latex": [
       "To solve the problem, we first need to understand the total number of ways to arrange the balls and then find the number of arrangements where no two red balls are adjacent.\n",
       "\n",
       "### Step 1: Total Arrangements of Balls\n",
       "\n",
       "We have a total of 12 balls: 3 black (B), 4 red (R), and 5 white (W). The total number of arrangements of these balls can be calculated using the multinomial coefficient:\n",
       "\n",
       "\\[\n",
       "\\text{Total arrangements} = \\frac{12!}{3! \\cdot 4! \\cdot 5!}\n",
       "\\]\n",
       "\n",
       "Calculating the factorials:\n",
       "\n",
       "- \\(12! = 479001600\\)\n",
       "- \\(3! = 6\\)\n",
       "- \\(4! = 24\\)\n",
       "- \\(5! = 120\\)\n",
       "\n",
       "Now, substituting these values into the formula:\n",
       "\n",
       "\\[\n",
       "\\text{Total arrangements} = \\frac{479001600}{6 \\cdot 24 \\cdot 120} = \\frac{479001600}{17280} = 27720\n",
       "\\]\n",
       "\n",
       "### Step 2: Arrangements with No Two Red Balls Adjacent\n",
       "\n",
       "Next, we need to find the number of arrangements where no two red balls are adjacent. To do this, we can first arrange the non-red balls (black and white) and then find the possible positions for the red balls.\n",
       "\n",
       "#### Step 2.1: Arranging Non-Red Balls\n",
       "\n",
       "We have 3 black balls and 5 white balls, making a total of 8 non-red balls. The number of arrangements of these 8 balls is:\n",
       "\n",
       "\\[\n",
       "\\text{Arrangements of non-red balls} = \\frac{8!}{3! \\cdot 5!}\n",
       "\\]\n",
       "\n",
       "Calculating this:\n",
       "\n",
       "- \\(8! = 40320\\)\n",
       "\n",
       "Now substituting:\n",
       "\n",
       "\\[\n",
       "\\text{Arrangements of non-red balls} = \\frac{40320}{6 \\cdot 120} = \\frac{40320}{720} = 56\n",
       "\\]\n",
       "\n",
       "#### Step 2.2: Placing Red Balls\n",
       "\n",
       "Once we have arranged the 8 non-red balls, we can visualize the arrangement as follows (using underscores to represent gaps):\n",
       "\n",
       "\\[\n",
       "\\_ B \\_ B \\_ B \\_ W \\_ W \\_ W \\_ W \\_ W \\_\n",
       "\\]\n",
       "\n",
       "There are 9 gaps (including the ends) where we can place the red balls. We need to choose 4 out of these 9 gaps to place the red balls, ensuring that no two red balls are adjacent.\n",
       "\n",
       "The number of ways to choose 4 gaps from 9 is given by:\n",
       "\n",
       "\\[\n",
       "\\binom{9}{4}\n",
       "\\]\n",
       "\n",
       "Calculating this:\n",
       "\n",
       "\\[\n",
       "\\binom{9}{4} = \\frac{9 \\cdot 8 \\cdot 7 \\cdot 6}{4 \\cdot 3 \\cdot 2 \\cdot 1} = \\frac{3024}{24} = 126\n",
       "\\]\n",
       "\n",
       "#### Step 2.3: Total Arrangements with No Two Red Balls Adjacent\n",
       "\n",
       "Now, we multiply the number of arrangements of the non-red balls by the number of ways to place the red balls:\n",
       "\n",
       "\\[\n",
       "\\text{Arrangements with no two red balls adjacent} = 56 \\cdot 126 = 7056\n",
       "\\]\n",
       "\n",
       "### Step 3: Probability Calculation\n",
       "\n",
       "Finally, we can find the probability \\(p\\) that none of the red balls are adjacent by dividing the number of arrangements with no two red balls adjacent by the total arrangements:\n",
       "\n",
       "\\[\n",
       "p = \\frac{\\text{Arrangements with no two red balls adjacent}}{\\text{Total arrangements}} = \\frac{7056}{27720}\n",
       "\\]\n",
       "\n",
       "To simplify this fraction, we can divide both the numerator and the denominator by their greatest common divisor (GCD). The GCD of 7056 and 27720 is 144.\n",
       "\n",
       "Calculating the simplified fraction:\n",
       "\n",
       "\\[\n",
       "p = \\frac{7056 \\div 144}{27720 \\div 144} = \\frac{49}{192}\n",
       "\\]\n",
       "\n",
       "### Conclusion\n",
       "\n",
       "Thus, the probability \\(p\\) that none of the red balls are adjacent is:\n",
       "\n",
       "\\[\n",
       "\\boxed{\\frac{49}{192}}\n",
       "\\]"
      ],
      "text/plain": [
       "<IPython.core.display.Latex object>"
      ]
     },
     "metadata": {},
     "output_type": "display_data"
    }
   ],
   "source": [
    "model = ChatOpenAI(temperature=0, model=\"gpt-4o-mini-2024-07-18\")\n",
    "system_message = \"You are a renowned mathematician. Solve the given question step by step. Make sure you think through every sentence you write,\\\n",
    "and that every sentence you write is coherent with all the previous sentences and the setting of the problem.\"\n",
    "question = \"Remove one ball at a time from a bag containing three black balls, four red balls and five white balls, and arrange all 12 balls in a horizontal line in the order in which they were removed. \\\n",
    "Note that the probability of an individual ball being taken out of the bag shall be equal. Find the probability p that none of the red balls are adjacent to each other.\"\n",
    "solver_func(system_message, question)"
   ]
  },
  {
   "cell_type": "markdown",
   "id": "3c622de9-c38f-43ec-96dd-b2b6c46dba75",
   "metadata": {},
   "source": [
    "解答が明らかに長くなっていて、一番最後で約分ミスしている以外は合っている。改良版モデルでは、論理的整合性の面では改善されているが、計算の精度ではまだ問題があるようだ。そこで、エージェントを利用して計算の精度を高めてみる。"
   ]
  },
  {
   "cell_type": "code",
   "execution_count": 70,
   "id": "b1fe6893-1cc6-4bf1-a282-f9d7525fffff",
   "metadata": {},
   "outputs": [],
   "source": [
    "!pip install -q trulens "
   ]
  },
  {
   "cell_type": "code",
   "execution_count": 72,
   "id": "c3581fa5-bf30-42f3-a79c-24e761f32119",
   "metadata": {},
   "outputs": [],
   "source": [
    "!pip install -q trulens-apps-langchain"
   ]
  },
  {
   "cell_type": "code",
   "execution_count": 73,
   "id": "fbe0c84d-428b-4f9e-aebd-d8e27e780a07",
   "metadata": {},
   "outputs": [
    {
     "name": "stderr",
     "output_type": "stream",
     "text": [
      "/Users/morikawakaion/anaconda3/lib/python3.10/site-packages/pandas/core/arrays/masked.py:60: UserWarning: Pandas requires version '1.3.6' or newer of 'bottleneck' (version '1.3.5' currently installed).\n",
      "  from pandas.core import (\n"
     ]
    },
    {
     "name": "stdout",
     "output_type": "stream",
     "text": [
      "🦑 TruSession initialized with db url sqlite:///default.sqlite .\n",
      "🛑 Secret keys may be written to the database. See the `database_redact_keys` option of `TruSession` to prevent this.\n"
     ]
    }
   ],
   "source": [
    "from langchain.chains import LLMMathChain\n",
    "from langchain.agents import AgentType\n",
    "from langchain.agents import Tool\n",
    "from langchain.agents import initialize_agent\n",
    "from trulens.apps.langchain import TruChain\n",
    "\n",
    "llm_math_chain = LLMMathChain.from_llm(llm=model)\n",
    "tools = [\n",
    "    Tool(\n",
    "        name=\"Calculator\",\n",
    "        func=llm_math_chain.run,\n",
    "        description=\"useful for calculation\")\n",
    "]\n",
    "\n",
    "agent = initialize_agent(\n",
    "    tools, model, agent=AgentType.OPENAI_FUNCTIONS, verbose=False\n",
    ")\n",
    "\n"
   ]
  },
  {
   "cell_type": "code",
   "execution_count": 84,
   "id": "22d8f4cd-14e9-47ae-b61c-7088fe423f96",
   "metadata": {},
   "outputs": [],
   "source": [
    "from langchain_core.prompts import ChatPromptTemplate\n",
    "\n",
    "def solver_func_with_calculator(question):  \n",
    "    system_template =  \"You are a renowned mathematician. Solve the given question step by step. \\\n",
    "    Make sure you think through every sentence you write, and that every sentence you write is coherent with all the previous sentences\\\n",
    "    and the setting of the problem.\"\n",
    " #   question:```{question}```\"\n",
    "    prompt_template = ChatPromptTemplate.from_messages(\n",
    "        [(\"system\", system_template)]\n",
    "    )\n",
    "    chain = prompt_template | agent\n",
    "    \n",
    "    \n",
    "    return display(Latex(agent.invoke([HumanMessage(content=question)])[\"output\"]))"
   ]
  },
  {
   "cell_type": "code",
   "execution_count": 85,
   "id": "32d7f176-050e-41c2-8743-58dbf18ee52b",
   "metadata": {},
   "outputs": [
    {
     "data": {
      "text/latex": [
       "To find the probability \\( p \\) that none of the red balls are adjacent to each other when arranging the balls, we can follow these steps:\n",
       "\n",
       "1. **Count the Total Arrangements**: First, we need to calculate the total number of ways to arrange all 12 balls (3 black, 4 red, and 5 white).\n",
       "\n",
       "   The total arrangements can be calculated using the formula for permutations of multiset:\n",
       "   \\[\n",
       "   \\text{Total arrangements} = \\frac{12!}{3! \\times 4! \\times 5!}\n",
       "   \\]\n",
       "\n",
       "2. **Count the Arrangements with No Adjacent Red Balls**: Next, we need to count the arrangements where no two red balls are adjacent. \n",
       "\n",
       "   To do this, we can first arrange the non-red balls (3 black and 5 white). The number of ways to arrange these 8 balls is:\n",
       "   \\[\n",
       "   \\text{Arrangements of non-red balls} = \\frac{8!}{3! \\times 5!}\n",
       "   \\]\n",
       "\n",
       "   Once we have arranged the non-red balls, we can place the red balls in the gaps created by these arrangements. There are 9 gaps (one before each ball and one after the last ball) where we can place the red balls.\n",
       "\n",
       "   We need to choose 4 out of these 9 gaps to place the red balls, which can be done in:\n",
       "   \\[\n",
       "   \\binom{9}{4}\n",
       "   \\]\n",
       "\n",
       "   Therefore, the total arrangements with no adjacent red balls is:\n",
       "   \\[\n",
       "   \\text{Arrangements with no adjacent red balls} = \\frac{8!}{3! \\times 5!} \\times \\binom{9}{4}\n",
       "   \\]\n",
       "\n",
       "3. **Calculate the Probability**: Finally, the probability \\( p \\) that none of the red balls are adjacent is given by the ratio of the arrangements with no adjacent red balls to the total arrangements:\n",
       "   \\[\n",
       "   p = \\frac{\\text{Arrangements with no adjacent red balls}}{\\text{Total arrangements}}\n",
       "   \\]\n",
       "\n",
       "Now, let's calculate these values step by step. \n",
       "\n",
       "### Step 1: Total Arrangements\n",
       "\\[\n",
       "\\text{Total arrangements} = \\frac{12!}{3! \\times 4! \\times 5!}\n",
       "\\]\n",
       "\n",
       "Calculating \\( 12! \\), \\( 3! \\), \\( 4! \\), and \\( 5! \\):\n",
       "- \\( 12! = 479001600 \\)\n",
       "- \\( 3! = 6 \\)\n",
       "- \\( 4! = 24 \\)\n",
       "- \\( 5! = 120 \\)\n",
       "\n",
       "Now, calculate:\n",
       "\\[\n",
       "3! \\times 4! \\times 5! = 6 \\times 24 \\times 120 = 17280\n",
       "\\]\n",
       "\n",
       "Thus,\n",
       "\\[\n",
       "\\text{Total arrangements} = \\frac{479001600}{17280} = 27720\n",
       "\\]\n",
       "\n",
       "### Step 2: Arrangements with No Adjacent Red Balls\n",
       "First, calculate the arrangements of non-red balls:\n",
       "\\[\n",
       "\\text{Arrangements of non-red balls} = \\frac{8!}{3! \\times 5!}\n",
       "\\]\n",
       "Calculating \\( 8! \\):\n",
       "- \\( 8! = 40320 \\)\n",
       "\n",
       "Thus,\n",
       "\\[\n",
       "\\text{Arrangements of non-red balls} = \\frac{40320}{6 \\times 120} = \\frac{40320}{720} = 56\n",
       "\\]\n",
       "\n",
       "Next, calculate the number of ways to choose 4 gaps from 9:\n",
       "\\[\n",
       "\\binom{9}{4} = \\frac{9!}{4! \\times 5!} = \\frac{9 \\times 8 \\times 7 \\times 6}{4 \\times 3 \\times 2 \\times 1} = 126\n",
       "\\]\n",
       "\n",
       "Now, calculate the total arrangements with no adjacent red balls:\n",
       "\\[\n",
       "\\text{Arrangements with no adjacent red balls} = 56 \\times 126 = 7056\n",
       "\\]\n",
       "\n",
       "### Step 3: Calculate the Probability\n",
       "Finally, we can calculate the probability \\( p \\):\n",
       "\\[\n",
       "p = \\frac{7056}{27720}\n",
       "\\]\n",
       "\n",
       "Now, let's simplify this fraction:\n",
       "\\[\n",
       "p = \\frac{7056 \\div 7056}{27720 \\div 7056} = \\frac{1}{3.92} \\approx 0.2551\n",
       "\\]\n",
       "\n",
       "Thus, the probability \\( p \\) that none of the red balls are adjacent to each other is approximately \\( 0.2551 \\) or \\( 25.51\\% \\)."
      ],
      "text/plain": [
       "<IPython.core.display.Latex object>"
      ]
     },
     "metadata": {},
     "output_type": "display_data"
    }
   ],
   "source": [
    "\n",
    "\n",
    "question = \"Remove one ball at a time from a bag containing three black balls, four red balls and five white balls, and arrange all 12 balls in a horizontal line in the order in which they were removed. \\\n",
    "Note that the probability of an individual ball being taken out of the bag shall be equal. Find the probability p that none of the red balls are adjacent to each other.\"\n",
    "solver_func_with_calculator(question)"
   ]
  },
  {
   "cell_type": "markdown",
   "id": "df22b7e5-66e2-499c-8d0a-1642d0a48110",
   "metadata": {},
   "source": [
    "最後から2番目のイコールの部分で粗い丸め方をしているため、本当の答え（0.2545）からややずれているが、ひとつ前のコードのような致命的な計算ミスはしていないので、改善しているとは言える。"
   ]
  }
 ],
 "metadata": {
  "kernelspec": {
   "display_name": "Python 3 (ipykernel)",
   "language": "python",
   "name": "python3"
  },
  "language_info": {
   "codemirror_mode": {
    "name": "ipython",
    "version": 3
   },
   "file_extension": ".py",
   "mimetype": "text/x-python",
   "name": "python",
   "nbconvert_exporter": "python",
   "pygments_lexer": "ipython3",
   "version": "3.10.9"
  }
 },
 "nbformat": 4,
 "nbformat_minor": 5
}
