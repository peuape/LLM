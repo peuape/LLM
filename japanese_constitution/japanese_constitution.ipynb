{
 "cells": [
  {
   "cell_type": "code",
   "execution_count": 1,
   "id": "5c6adc1a-9ab4-4caf-b344-d5fdda1ed983",
   "metadata": {},
   "outputs": [],
   "source": [
    "!pip install langchain openai langchain-community faiss-cpu -q"
   ]
  },
  {
   "cell_type": "code",
   "execution_count": 2,
   "id": "5b593f51-a290-4e93-9297-b80087020ed7",
   "metadata": {},
   "outputs": [
    {
     "name": "stdin",
     "output_type": "stream",
     "text": [
      " ········\n"
     ]
    }
   ],
   "source": [
    "import getpass\n",
    "import os\n",
    "\n",
    "os.environ[\"OPENAI_API_KEY\"] = getpass.getpass()"
   ]
  },
  {
   "cell_type": "markdown",
   "id": "e685d518-8367-4514-b53c-2c747946b2e7",
   "metadata": {},
   "source": [
    "### 1. Load and Split Document"
   ]
  },
  {
   "cell_type": "code",
   "execution_count": 4,
   "id": "bd934707-1e06-43ab-8faf-264b57c7be24",
   "metadata": {},
   "outputs": [],
   "source": [
    "from langchain_community.document_loaders import PyPDFLoader\n",
    "from langchain_text_splitters import RecursiveCharacterTextSplitter \n",
    "\n",
    "loader = PyPDFLoader(\n",
    "    \"nihonkokukenpou.pdf\",\n",
    ")\n",
    "text_splitter = RecursiveCharacterTextSplitter(\n",
    "    separators=[\"\\n\\n\", \"\\n\", \"。\", \"!\", \"?\", \"、\", \" \", \"\"],\n",
    "    chunk_size=100,\n",
    "    chunk_overlap=0\n",
    ")\n",
    "docs = loader.load_and_split(text_splitter)\n"
   ]
  },
  {
   "cell_type": "markdown",
   "id": "5d2ef466-106c-48a4-ac61-080d11f536b6",
   "metadata": {},
   "source": [
    "### 2. Embed Document"
   ]
  },
  {
   "cell_type": "code",
   "execution_count": 5,
   "id": "b53e2231-637d-418c-984b-023e9780b610",
   "metadata": {},
   "outputs": [],
   "source": [
    "from langchain_openai import OpenAIEmbeddings\n",
    "\n",
    "embeddings = OpenAIEmbeddings()"
   ]
  },
  {
   "cell_type": "markdown",
   "id": "34836060-b970-489b-a00b-df10002b43ee",
   "metadata": {},
   "source": [
    "### 3. Vectorstore"
   ]
  },
  {
   "cell_type": "code",
   "execution_count": 6,
   "id": "8cfa0854-a1f6-46d2-9f3f-a62f465f70cb",
   "metadata": {},
   "outputs": [],
   "source": [
    "from langchain_community.vectorstores import FAISS\n",
    "\n",
    "vector_store = FAISS.from_documents(docs, embeddings)"
   ]
  },
  {
   "cell_type": "markdown",
   "id": "9f695e2a-d4ed-49b3-82cf-cfcf30ef1c50",
   "metadata": {},
   "source": [
    "### 4. Retrieve"
   ]
  },
  {
   "cell_type": "code",
   "execution_count": 7,
   "id": "6b50876e-d754-418e-9cc2-4cc5a3a3e7e8",
   "metadata": {},
   "outputs": [],
   "source": [
    "retriever = vector_store.as_retriever()"
   ]
  },
  {
   "cell_type": "markdown",
   "id": "4c8d3e8e-cf75-48ed-af62-597d6e96e783",
   "metadata": {},
   "source": [
    "### 5. Question and Answer"
   ]
  },
  {
   "cell_type": "code",
   "execution_count": 35,
   "id": "624f4f21-9758-44c0-b365-87e2deb50db4",
   "metadata": {},
   "outputs": [],
   "source": [
    "from langchain.chains import RetrievalQA\n",
    "from langchain_openai import ChatOpenAI\n",
    "from langchain_core.prompts import ChatPromptTemplate\n",
    "from langchain_core.prompts import MessagesPlaceholder\n",
    "from langchain_core.messages import SystemMessage, HumanMessage\n",
    "from langchain.chains import create_retrieval_chain\n",
    "from langchain.chains.combine_documents import create_stuff_documents_chain\n",
    "from langchain_core.output_parsers import StrOutputParser\n",
    "\n",
    "\n",
    "\n",
    "llm = ChatOpenAI(temperature=0, model=\"gpt-4o-mini\")\n",
    "\n",
    "prompt = ChatPromptTemplate.from_template(\"\"\"Answer the following question in the {language} language based only on the provided context:\n",
    "<context>\n",
    "{context}\n",
    "</context>\n",
    "Question: {input}\"\"\")\n",
    "\n",
    "combine_docs_chain = create_stuff_documents_chain(\n",
    "    llm=llm,\n",
    "    prompt=prompt,\n",
    "  #  output_parser=StrOutputParser()\n",
    ")\n",
    "rag_chain = create_retrieval_chain(retriever, combine_docs_chain)"
   ]
  },
  {
   "cell_type": "code",
   "execution_count": 36,
   "id": "b3721c7a-89f5-4d08-9665-27f18444b08b",
   "metadata": {},
   "outputs": [
    {
     "name": "stdout",
     "output_type": "stream",
     "text": [
      "日本は核兵器を保有することはできません。憲法第九条に基づき、戦争と武力の行使を放棄しており、戦力を保持しないことが定められています。\n"
     ]
    }
   ],
   "source": [
    "response = rag_chain.invoke({\"language\":\"japanese\", \"input\":\"Can Japan possess Nuclear weapons\"})\n",
    "\n",
    "print(response[\"answer\"])"
   ]
  },
  {
   "cell_type": "code",
   "execution_count": null,
   "id": "1b34a942-86b8-4449-9e0e-67e4a408ec08",
   "metadata": {},
   "outputs": [],
   "source": [
    "response = rag_chain.invoke({\"language\":\"japanese\", \"input\":\"\"})\n",
    "\n",
    "print(response[\"answer\"])"
   ]
  }
 ],
 "metadata": {
  "kernelspec": {
   "display_name": "Python 3 (ipykernel)",
   "language": "python",
   "name": "python3"
  },
  "language_info": {
   "codemirror_mode": {
    "name": "ipython",
    "version": 3
   },
   "file_extension": ".py",
   "mimetype": "text/x-python",
   "name": "python",
   "nbconvert_exporter": "python",
   "pygments_lexer": "ipython3",
   "version": "3.10.9"
  }
 },
 "nbformat": 4,
 "nbformat_minor": 5
}
